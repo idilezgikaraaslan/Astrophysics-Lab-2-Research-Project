{
 "cells": [
  {
   "cell_type": "code",
   "execution_count": 1,
   "id": "9b7c0641",
   "metadata": {},
   "outputs": [],
   "source": [
    "import numpy as np\n",
    "import matplotlib.pyplot as plt\n",
    "%matplotlib notebook\n",
    "\n",
    "import pickle"
   ]
  },
  {
   "cell_type": "markdown",
   "id": "a73f3b04-1183-43e3-a402-9fbb23111218",
   "metadata": {},
   "source": [
    "The time of transit events depend on Earth's orbit. This is called \"the light time travel effect\". In order to come over this problem, we will change our reference frame from Earth to the Sun. For that, we will need to compute the Barycentric Julian Date (BJD)."
   ]
  },
  {
   "cell_type": "code",
   "execution_count": 2,
   "id": "b6681125",
   "metadata": {},
   "outputs": [],
   "source": [
    "array_jd = pickle.load(open('array_jd.p','rb'))\n",
    "array_exptime = pickle.load(open('array_exptime.p','rb'))"
   ]
  },
  {
   "cell_type": "code",
   "execution_count": 3,
   "id": "22d4025e",
   "metadata": {},
   "outputs": [],
   "source": [
    "jd = array_jd + array_exptime/86400./2."
   ]
  },
  {
   "cell_type": "code",
   "execution_count": 4,
   "id": "5e4d92b2",
   "metadata": {},
   "outputs": [],
   "source": [
    "from astropy.time import Time\n",
    "#Documentation: https://docs.astropy.org/en/stable/time/\n",
    "tm = Time(jd, format='jd', scale='utc', location=('45.8472d', '11.569d'))\n",
    "\n",
    "\n",
    "#Asiago - Cima Ekar:\n",
    "# 45̊ 50' 50'' N -> 45.8472\n",
    "# 11̊ 34' 08'' E -> 11.569\n",
    "\n",
    "#Conversion from JD-UTC to TDB:\n",
    "# tm.tdb[:5]\n",
    "# BUT: the results would be in the Earth's barycentric system.\n",
    "# In order to move from the Earth BC to the Solar System BC\n",
    "# we have to correct for the 'light travel time', i.e.\n",
    "# the time required by the light to travel between Earth\n",
    "# and the Solar System barycenter."
   ]
  },
  {
   "cell_type": "code",
   "execution_count": 5,
   "id": "18124585",
   "metadata": {},
   "outputs": [],
   "source": [
    "from astropy import coordinates as coord, units as u\n",
    "target = coord.SkyCoord(\"17:49:08.3938970328\", \"+29:52:44.741814600\", #from Simbad\n",
    "                        unit=(u.hourangle, u.deg), frame='icrs') #icrs: international celestial reference system \n",
    "ltt_bary = tm.light_travel_time(target)\n",
    "\n",
    "final_bjd = jd + ltt_bary\n",
    "pickle.dump(final_bjd, open('array_bjd_tdb.p', 'wb'))\n",
    "\n",
    "\n",
    "#print('Light travel time in minutes: ')\n",
    "#print(ltt_bary.to_value(u.min))"
   ]
  },
  {
   "cell_type": "code",
   "execution_count": null,
   "id": "4b4de266",
   "metadata": {},
   "outputs": [],
   "source": []
  }
 ],
 "metadata": {
  "kernelspec": {
   "display_name": "Python 3 (ipykernel)",
   "language": "python",
   "name": "python3"
  },
  "language_info": {
   "codemirror_mode": {
    "name": "ipython",
    "version": 3
   },
   "file_extension": ".py",
   "mimetype": "text/x-python",
   "name": "python",
   "nbconvert_exporter": "python",
   "pygments_lexer": "ipython3",
   "version": "3.12.3"
  }
 },
 "nbformat": 4,
 "nbformat_minor": 5
}
